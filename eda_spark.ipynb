{
 "cells": [
  {
   "cell_type": "code",
   "execution_count": 7,
   "metadata": {},
   "outputs": [],
   "source": [
    "from pyspark.sql import SparkSession\n",
    "import pyspark as ps\n",
    "import numpy as np\n",
    "import pandas as pd\n",
    "from sklearn.datasets import load_iris"
   ]
  },
  {
   "cell_type": "code",
   "execution_count": 8,
   "metadata": {},
   "outputs": [],
   "source": [
    "# Create SparkSession \n",
    "spark = SparkSession.builder \\\n",
    "      .master(\"local[1]\") \\\n",
    "      .appName(\"SparkByExamples.com\") \\\n",
    "      .getOrCreate() "
   ]
  },
  {
   "cell_type": "code",
   "execution_count": 9,
   "metadata": {},
   "outputs": [
    {
     "name": "stderr",
     "output_type": "stream",
     "text": [
      "[Stage 0:>                                                          (0 + 1) / 1]\r"
     ]
    },
    {
     "name": "stdout",
     "output_type": "stream",
     "text": [
      "+------------+-----------+------------+-----------+-----+\n",
      "|sepal_length|sepal_width|petal_length|petal_width|label|\n",
      "+------------+-----------+------------+-----------+-----+\n",
      "|         5.1|        3.5|         1.4|        0.2|  0.0|\n",
      "|         4.9|        3.0|         1.4|        0.2|  0.0|\n",
      "|         4.7|        3.2|         1.3|        0.2|  0.0|\n",
      "|         4.6|        3.1|         1.5|        0.2|  0.0|\n",
      "|         5.0|        3.6|         1.4|        0.2|  0.0|\n",
      "|         5.4|        3.9|         1.7|        0.4|  0.0|\n",
      "|         4.6|        3.4|         1.4|        0.3|  0.0|\n",
      "|         5.0|        3.4|         1.5|        0.2|  0.0|\n",
      "|         4.4|        2.9|         1.4|        0.2|  0.0|\n",
      "|         4.9|        3.1|         1.5|        0.1|  0.0|\n",
      "|         5.4|        3.7|         1.5|        0.2|  0.0|\n",
      "|         4.8|        3.4|         1.6|        0.2|  0.0|\n",
      "|         4.8|        3.0|         1.4|        0.1|  0.0|\n",
      "|         4.3|        3.0|         1.1|        0.1|  0.0|\n",
      "|         5.8|        4.0|         1.2|        0.2|  0.0|\n",
      "|         5.7|        4.4|         1.5|        0.4|  0.0|\n",
      "|         5.4|        3.9|         1.3|        0.4|  0.0|\n",
      "|         5.1|        3.5|         1.4|        0.3|  0.0|\n",
      "|         5.7|        3.8|         1.7|        0.3|  0.0|\n",
      "|         5.1|        3.8|         1.5|        0.3|  0.0|\n",
      "+------------+-----------+------------+-----------+-----+\n",
      "only showing top 20 rows\n",
      "\n"
     ]
    },
    {
     "name": "stderr",
     "output_type": "stream",
     "text": [
      "                                                                                \r"
     ]
    }
   ],
   "source": [
    "data = load_iris()\n",
    "cols = [i.replace('(cm)','').strip().replace(' ','_') for i in data.feature_names] + ['label'] # Column name cleanup\n",
    "pdf = pd.DataFrame(np.c_[data.data, data.target], columns=cols)\n",
    "df = spark.createDataFrame(pdf)\n",
    "df.show()"
   ]
  },
  {
   "cell_type": "code",
   "execution_count": null,
   "metadata": {},
   "outputs": [],
   "source": [
    "results = spark.sql(\n",
    "  \"SELECT * FROM people\")"
   ]
  },
  {
   "cell_type": "code",
   "execution_count": null,
   "metadata": {},
   "outputs": [],
   "source": [
    "hei()"
   ]
  }
 ],
 "metadata": {
  "kernelspec": {
   "display_name": ".venv",
   "language": "python",
   "name": "python3"
  },
  "language_info": {
   "codemirror_mode": {
    "name": "ipython",
    "version": 3
   },
   "file_extension": ".py",
   "mimetype": "text/x-python",
   "name": "python",
   "nbconvert_exporter": "python",
   "pygments_lexer": "ipython3",
   "version": "3.9.6"
  },
  "orig_nbformat": 4
 },
 "nbformat": 4,
 "nbformat_minor": 2
}
